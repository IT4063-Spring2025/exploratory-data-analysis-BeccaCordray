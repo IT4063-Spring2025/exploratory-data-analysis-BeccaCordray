{
 "cells": [
  {
   "attachments": {},
   "cell_type": "markdown",
   "metadata": {},
   "source": [
    "# Exploratory Data Analysis - Lab\n",
    "\n",
    "## 🔍 Overview\n",
    "The lab is designed to be self-guided, providing solutions for each exercise to check your work and assist if you get stuck. However, it is important to first attempt to solve the problem on your own as this is the best way to learn. If you become stuck, don't give up and seek help from the instructor, peers, or even a search engine like Google. Be mindful that not all answers from a search engine may be correct, so use your judgement to determine the validity of the information. Remember, the best way to learn is to try solving the problem yourself first.\n",
    "\n",
    "This lab is designed to help you practice exploratory data analysis using Python. You will work with one dataset: auto-mpg. You will use various data visualization and analysis techniques to gain insights and identify patterns in the data, and clean and preprocess the data to make it more suitable for analysis.\n",
    "\n",
    "## 🎯 Objectives\n",
    "By the end of this lab, you should be able to:\n",
    "\n",
    "- Load and preprocess data using Python libraries such as pandas\n",
    "- Clean and preprocess the data to make it more suitable for analysis\n",
    "- Use visualization techniques to explore and understand the distribution of the variables in the data\n",
    "- Apply basic statistical analysis to derive insights from the data\n",
    "- Communicate your findings through clear and effective data visualizations and summaries"
   ]
  },
  {
   "attachments": {},
   "cell_type": "markdown",
   "metadata": {},
   "source": [
    "#### Package Imports\n",
    "We will keep coming back to this cell to add \"import\" statements, and configure libraries as we need"
   ]
  },
  {
   "cell_type": "code",
   "execution_count": 3,
   "metadata": {},
   "outputs": [],
   "source": [
    "import pandas as pd\n",
    "from scipy.stats import trim_mean\n",
    "\n",
    "# Configure pandas to display 500 rows; otherwise it will truncate the output\n",
    "pd.set_option('display.max_rows', 500)\n",
    "\n",
    "# To plot pretty figures\n",
    "%matplotlib inline\n",
    "import matplotlib as mpl\n",
    "import matplotlib.pyplot as plt\n",
    "mpl.rc('axes', labelsize=14)\n",
    "mpl.rc('xtick', labelsize=12)\n",
    "mpl.rc('ytick', labelsize=12)\n",
    "plt.style.use(\"bmh\")"
   ]
  },
  {
   "attachments": {},
   "cell_type": "markdown",
   "metadata": {},
   "source": [
    "## Auto-MPG Data\n",
    "This dataset is licensed under a Creative Commons Attribution 4.0 International (CC BY 4.0) license.\n",
    "\n",
    "[Dataset Source](https://archive.ics.uci.edu/ml/datasets/auto+mpg)"
   ]
  },
  {
   "attachments": {},
   "cell_type": "markdown",
   "metadata": {},
   "source": [
    "### Exercise 1:  Load the dataset\n",
    "You've had plenty of exercise in doing this. Load the dataset into a pandas dataframe.\n",
    "\n",
    "The dataset is available in the `data/auto-mpg.data` file. Check the file to determine the delimiter and/or the appropriate pandas method to use to load the data.\n",
    "\n",
    "Make sure you name the variable `auto_mpg_df` and that you use the appropriate pandas method to load the data."
   ]
  },
  {
   "cell_type": "code",
   "execution_count": 4,
   "metadata": {},
   "outputs": [],
   "source": [
    "auto_mpg_df = pd.read_table('./data/auto-mpg/auto-mpg.data', sep=\"\\t\")\n"
   ]
  },
  {
   "attachments": {},
   "cell_type": "markdown",
   "metadata": {},
   "source": [
    "<details>\n",
    "  <summary>💡 Solution</summary>\n",
    "\n",
    "  ```python\n",
    "    auto_mpg_df = pd.read_table('./data/auto-mpg/auto-mpg.data', sep=\"\\t\")\n",
    "  ```\n",
    "</details>\n"
   ]
  },
  {
   "attachments": {},
   "cell_type": "markdown",
   "metadata": {},
   "source": [
    "### Exercise 2: Confirm the data loaded correctly\n",
    "Generally, after any data import, we need to make sure we got the data imported correctly. This is especially true when we're working with data that we didn't create ourselves.\n",
    "\n",
    "One way this can be achieved is to print/display the dataframe. but this can be problematic if the dataframe is large.\n",
    "\n",
    "Let's explore a few different ways.\n",
    "\n",
    "#### 2.1: Display the <u>first</u> 5 rows of the dataframe\n"
   ]
  },
  {
   "cell_type": "code",
   "execution_count": 4,
   "metadata": {},
   "outputs": [
    {
     "data": {
      "text/html": [
       "<div>\n",
       "<style scoped>\n",
       "    .dataframe tbody tr th:only-of-type {\n",
       "        vertical-align: middle;\n",
       "    }\n",
       "\n",
       "    .dataframe tbody tr th {\n",
       "        vertical-align: top;\n",
       "    }\n",
       "\n",
       "    .dataframe thead th {\n",
       "        text-align: right;\n",
       "    }\n",
       "</style>\n",
       "<table border=\"1\" class=\"dataframe\">\n",
       "  <thead>\n",
       "    <tr style=\"text-align: right;\">\n",
       "      <th></th>\n",
       "      <th>mpg</th>\n",
       "      <th>cylinders</th>\n",
       "      <th>displacement</th>\n",
       "      <th>horsepower</th>\n",
       "      <th>weight</th>\n",
       "      <th>acceleration</th>\n",
       "      <th>model_year</th>\n",
       "      <th>origin</th>\n",
       "      <th>car_name</th>\n",
       "    </tr>\n",
       "  </thead>\n",
       "  <tbody>\n",
       "    <tr>\n",
       "      <th>0</th>\n",
       "      <td>18.0</td>\n",
       "      <td>8.0</td>\n",
       "      <td>307.0</td>\n",
       "      <td>130.0</td>\n",
       "      <td>3504.0</td>\n",
       "      <td>12.0</td>\n",
       "      <td>70.0</td>\n",
       "      <td>1.0</td>\n",
       "      <td>chevrolet chevelle malibu</td>\n",
       "    </tr>\n",
       "    <tr>\n",
       "      <th>1</th>\n",
       "      <td>15.0</td>\n",
       "      <td>8.0</td>\n",
       "      <td>350.0</td>\n",
       "      <td>165.0</td>\n",
       "      <td>3693.0</td>\n",
       "      <td>11.5</td>\n",
       "      <td>70.0</td>\n",
       "      <td>1.0</td>\n",
       "      <td>buick skylark 320</td>\n",
       "    </tr>\n",
       "    <tr>\n",
       "      <th>2</th>\n",
       "      <td>18.0</td>\n",
       "      <td>8.0</td>\n",
       "      <td>318.0</td>\n",
       "      <td>150.0</td>\n",
       "      <td>3436.0</td>\n",
       "      <td>11.0</td>\n",
       "      <td>70.0</td>\n",
       "      <td>1.0</td>\n",
       "      <td>plymouth satellite</td>\n",
       "    </tr>\n",
       "    <tr>\n",
       "      <th>3</th>\n",
       "      <td>16.0</td>\n",
       "      <td>8.0</td>\n",
       "      <td>304.0</td>\n",
       "      <td>150.0</td>\n",
       "      <td>3433.0</td>\n",
       "      <td>12.0</td>\n",
       "      <td>70.0</td>\n",
       "      <td>1.0</td>\n",
       "      <td>amc rebel sst</td>\n",
       "    </tr>\n",
       "    <tr>\n",
       "      <th>4</th>\n",
       "      <td>17.0</td>\n",
       "      <td>8.0</td>\n",
       "      <td>302.0</td>\n",
       "      <td>140.0</td>\n",
       "      <td>3449.0</td>\n",
       "      <td>10.5</td>\n",
       "      <td>70.0</td>\n",
       "      <td>1.0</td>\n",
       "      <td>ford torino</td>\n",
       "    </tr>\n",
       "  </tbody>\n",
       "</table>\n",
       "</div>"
      ],
      "text/plain": [
       "    mpg  cylinders  displacement  horsepower  weight  acceleration  \\\n",
       "0  18.0        8.0         307.0       130.0  3504.0          12.0   \n",
       "1  15.0        8.0         350.0       165.0  3693.0          11.5   \n",
       "2  18.0        8.0         318.0       150.0  3436.0          11.0   \n",
       "3  16.0        8.0         304.0       150.0  3433.0          12.0   \n",
       "4  17.0        8.0         302.0       140.0  3449.0          10.5   \n",
       "\n",
       "   model_year  origin                   car_name  \n",
       "0        70.0     1.0  chevrolet chevelle malibu  \n",
       "1        70.0     1.0          buick skylark 320  \n",
       "2        70.0     1.0         plymouth satellite  \n",
       "3        70.0     1.0              amc rebel sst  \n",
       "4        70.0     1.0                ford torino  "
      ]
     },
     "execution_count": 4,
     "metadata": {},
     "output_type": "execute_result"
    }
   ],
   "source": [
    "auto_mpg_df.head(5)\n"
   ]
  },
  {
   "attachments": {},
   "cell_type": "markdown",
   "metadata": {},
   "source": [
    "<details>\n",
    "  <summary>💡 Solution</summary>\n",
    "\n",
    "  ```python\n",
    "  auto_mpg_df.head()\n",
    "  # or \n",
    "  # auto_mpg_df.head(5)\n",
    "  # or \n",
    "  # auto_mpg_df.head(n=5) \n",
    "  # or \n",
    "  # auto_mpg_df[:5] \n",
    "  # or \n",
    "  # auto_mpg_df.iloc[:5] \n",
    "  # or \n",
    "  # auto_mpg_df.iloc[0:5] \n",
    "  # or \n",
    "  # auto_mpg_df.iloc[[0,1,2,3,4]] \n",
    "  ```\n",
    "</details>"
   ]
  },
  {
   "attachments": {},
   "cell_type": "markdown",
   "metadata": {},
   "source": [
    "#### 2.2: Display the <u>last</u> 5 rows of the dataframe"
   ]
  },
  {
   "cell_type": "code",
   "execution_count": 13,
   "metadata": {},
   "outputs": [
    {
     "data": {
      "text/html": [
       "<div>\n",
       "<style scoped>\n",
       "    .dataframe tbody tr th:only-of-type {\n",
       "        vertical-align: middle;\n",
       "    }\n",
       "\n",
       "    .dataframe tbody tr th {\n",
       "        vertical-align: top;\n",
       "    }\n",
       "\n",
       "    .dataframe thead th {\n",
       "        text-align: right;\n",
       "    }\n",
       "</style>\n",
       "<table border=\"1\" class=\"dataframe\">\n",
       "  <thead>\n",
       "    <tr style=\"text-align: right;\">\n",
       "      <th></th>\n",
       "      <th>mpg</th>\n",
       "      <th>cylinders</th>\n",
       "      <th>displacement</th>\n",
       "      <th>horsepower</th>\n",
       "      <th>weight</th>\n",
       "      <th>acceleration</th>\n",
       "      <th>model_year</th>\n",
       "      <th>origin</th>\n",
       "      <th>car_name</th>\n",
       "    </tr>\n",
       "  </thead>\n",
       "  <tbody>\n",
       "    <tr>\n",
       "      <th>404</th>\n",
       "      <td>27.0</td>\n",
       "      <td>4.0</td>\n",
       "      <td>140.0</td>\n",
       "      <td>86.0</td>\n",
       "      <td>2790.0</td>\n",
       "      <td>15.6</td>\n",
       "      <td>82.0</td>\n",
       "      <td>1.0</td>\n",
       "      <td>ford mustang gl</td>\n",
       "    </tr>\n",
       "    <tr>\n",
       "      <th>405</th>\n",
       "      <td>44.0</td>\n",
       "      <td>4.0</td>\n",
       "      <td>97.0</td>\n",
       "      <td>52.0</td>\n",
       "      <td>2130.0</td>\n",
       "      <td>24.6</td>\n",
       "      <td>82.0</td>\n",
       "      <td>2.0</td>\n",
       "      <td>vw pickup</td>\n",
       "    </tr>\n",
       "    <tr>\n",
       "      <th>406</th>\n",
       "      <td>32.0</td>\n",
       "      <td>4.0</td>\n",
       "      <td>135.0</td>\n",
       "      <td>84.0</td>\n",
       "      <td>2295.0</td>\n",
       "      <td>11.6</td>\n",
       "      <td>82.0</td>\n",
       "      <td>1.0</td>\n",
       "      <td>dodge rampage</td>\n",
       "    </tr>\n",
       "    <tr>\n",
       "      <th>407</th>\n",
       "      <td>28.0</td>\n",
       "      <td>4.0</td>\n",
       "      <td>120.0</td>\n",
       "      <td>79.0</td>\n",
       "      <td>2625.0</td>\n",
       "      <td>18.6</td>\n",
       "      <td>82.0</td>\n",
       "      <td>1.0</td>\n",
       "      <td>ford ranger</td>\n",
       "    </tr>\n",
       "    <tr>\n",
       "      <th>408</th>\n",
       "      <td>31.0</td>\n",
       "      <td>4.0</td>\n",
       "      <td>119.0</td>\n",
       "      <td>82.0</td>\n",
       "      <td>2720.0</td>\n",
       "      <td>19.4</td>\n",
       "      <td>82.0</td>\n",
       "      <td>1.0</td>\n",
       "      <td>chevy s-10</td>\n",
       "    </tr>\n",
       "  </tbody>\n",
       "</table>\n",
       "</div>"
      ],
      "text/plain": [
       "      mpg  cylinders  displacement  horsepower  weight  acceleration  \\\n",
       "404  27.0        4.0         140.0        86.0  2790.0          15.6   \n",
       "405  44.0        4.0          97.0        52.0  2130.0          24.6   \n",
       "406  32.0        4.0         135.0        84.0  2295.0          11.6   \n",
       "407  28.0        4.0         120.0        79.0  2625.0          18.6   \n",
       "408  31.0        4.0         119.0        82.0  2720.0          19.4   \n",
       "\n",
       "     model_year  origin         car_name  \n",
       "404        82.0     1.0  ford mustang gl  \n",
       "405        82.0     2.0        vw pickup  \n",
       "406        82.0     1.0    dodge rampage  \n",
       "407        82.0     1.0      ford ranger  \n",
       "408        82.0     1.0       chevy s-10  "
      ]
     },
     "execution_count": 13,
     "metadata": {},
     "output_type": "execute_result"
    }
   ],
   "source": [
    "auto_mpg_df.tail(5)"
   ]
  },
  {
   "attachments": {},
   "cell_type": "markdown",
   "metadata": {},
   "source": [
    "<details>\n",
    "  <summary>💡 Solution</summary>\n",
    "\n",
    "  ```python\n",
    "  auto_mpg_df.tail()\n",
    "```\n",
    "</details>"
   ]
  },
  {
   "attachments": {},
   "cell_type": "markdown",
   "metadata": {},
   "source": [
    "#### 2.3: Display <u>random</u> 5 rows of the dataframe\n",
    "just viewing the first and last records may not be enough. We may want to see some random records to make sure we have the data we expect."
   ]
  },
  {
   "cell_type": "code",
   "execution_count": 8,
   "metadata": {},
   "outputs": [
    {
     "data": {
      "text/html": [
       "<div>\n",
       "<style scoped>\n",
       "    .dataframe tbody tr th:only-of-type {\n",
       "        vertical-align: middle;\n",
       "    }\n",
       "\n",
       "    .dataframe tbody tr th {\n",
       "        vertical-align: top;\n",
       "    }\n",
       "\n",
       "    .dataframe thead th {\n",
       "        text-align: right;\n",
       "    }\n",
       "</style>\n",
       "<table border=\"1\" class=\"dataframe\">\n",
       "  <thead>\n",
       "    <tr style=\"text-align: right;\">\n",
       "      <th></th>\n",
       "      <th>mpg</th>\n",
       "      <th>cylinders</th>\n",
       "      <th>displacement</th>\n",
       "      <th>horsepower</th>\n",
       "      <th>weight</th>\n",
       "      <th>acceleration</th>\n",
       "      <th>model_year</th>\n",
       "      <th>origin</th>\n",
       "      <th>car_name</th>\n",
       "    </tr>\n",
       "  </thead>\n",
       "  <tbody>\n",
       "    <tr>\n",
       "      <th>264</th>\n",
       "      <td>25.1</td>\n",
       "      <td>4.0</td>\n",
       "      <td>140.0</td>\n",
       "      <td>88.0</td>\n",
       "      <td>2720.0</td>\n",
       "      <td>15.4</td>\n",
       "      <td>78.0</td>\n",
       "      <td>1.0</td>\n",
       "      <td>ford fairmont (man)</td>\n",
       "    </tr>\n",
       "    <tr>\n",
       "      <th>296</th>\n",
       "      <td>16.5</td>\n",
       "      <td>8.0</td>\n",
       "      <td>351.0</td>\n",
       "      <td>138.0</td>\n",
       "      <td>3955.0</td>\n",
       "      <td>13.2</td>\n",
       "      <td>79.0</td>\n",
       "      <td>1.0</td>\n",
       "      <td>mercury grand marquis</td>\n",
       "    </tr>\n",
       "    <tr>\n",
       "      <th>402</th>\n",
       "      <td>36.0</td>\n",
       "      <td>4.0</td>\n",
       "      <td>135.0</td>\n",
       "      <td>84.0</td>\n",
       "      <td>2370.0</td>\n",
       "      <td>13.0</td>\n",
       "      <td>82.0</td>\n",
       "      <td>1.0</td>\n",
       "      <td>dodge charger 2.2</td>\n",
       "    </tr>\n",
       "    <tr>\n",
       "      <th>61</th>\n",
       "      <td>31.0</td>\n",
       "      <td>4.0</td>\n",
       "      <td>71.0</td>\n",
       "      <td>65.0</td>\n",
       "      <td>1773.0</td>\n",
       "      <td>19.0</td>\n",
       "      <td>71.0</td>\n",
       "      <td>3.0</td>\n",
       "      <td>toyota corolla 1200</td>\n",
       "    </tr>\n",
       "    <tr>\n",
       "      <th>247</th>\n",
       "      <td>30.0</td>\n",
       "      <td>4.0</td>\n",
       "      <td>97.0</td>\n",
       "      <td>67.0</td>\n",
       "      <td>1985.0</td>\n",
       "      <td>16.4</td>\n",
       "      <td>77.0</td>\n",
       "      <td>3.0</td>\n",
       "      <td>subaru dl</td>\n",
       "    </tr>\n",
       "  </tbody>\n",
       "</table>\n",
       "</div>"
      ],
      "text/plain": [
       "      mpg  cylinders  displacement  horsepower  weight  acceleration  \\\n",
       "264  25.1        4.0         140.0        88.0  2720.0          15.4   \n",
       "296  16.5        8.0         351.0       138.0  3955.0          13.2   \n",
       "402  36.0        4.0         135.0        84.0  2370.0          13.0   \n",
       "61   31.0        4.0          71.0        65.0  1773.0          19.0   \n",
       "247  30.0        4.0          97.0        67.0  1985.0          16.4   \n",
       "\n",
       "     model_year  origin               car_name  \n",
       "264        78.0     1.0    ford fairmont (man)  \n",
       "296        79.0     1.0  mercury grand marquis  \n",
       "402        82.0     1.0      dodge charger 2.2  \n",
       "61         71.0     3.0    toyota corolla 1200  \n",
       "247        77.0     3.0              subaru dl  "
      ]
     },
     "execution_count": 8,
     "metadata": {},
     "output_type": "execute_result"
    }
   ],
   "source": [
    "auto_mpg_df.sample(5)"
   ]
  },
  {
   "attachments": {},
   "cell_type": "markdown",
   "metadata": {},
   "source": [
    "<details>\n",
    "  <summary>💡 Solution</summary>\n",
    "\n",
    "  ```python\n",
    "  auto_mpg_df.sample(5)\n",
    "```\n",
    "</details>"
   ]
  },
  {
   "cell_type": "markdown",
   "metadata": {},
   "source": [
    "> 🚩 This is a good point to commit your code to your repository."
   ]
  },
  {
   "attachments": {},
   "cell_type": "markdown",
   "metadata": {},
   "source": [
    "### Exercise 3: Dataset Metadata\n",
    "Now that we've confirmed the data loaded correctly, let's take a look at the metadata for the dataset.\n",
    "\n",
    "#### 3.1: Display the number of rows and columns in the dataframe"
   ]
  },
  {
   "cell_type": "code",
   "execution_count": 14,
   "metadata": {},
   "outputs": [
    {
     "data": {
      "text/plain": [
       "(409, 9)"
      ]
     },
     "execution_count": 14,
     "metadata": {},
     "output_type": "execute_result"
    }
   ],
   "source": [
    "auto_mpg_df.shape"
   ]
  },
  {
   "attachments": {},
   "cell_type": "markdown",
   "metadata": {},
   "source": [
    "<details>\n",
    "  <summary>💡 Solution</summary>\n",
    "\n",
    "  ```python\n",
    "  auto_mpg_df.shape\n",
    "```\n",
    "</details>"
   ]
  },
  {
   "attachments": {},
   "cell_type": "markdown",
   "metadata": {},
   "source": [
    "#### 3.2: Display a summary about the dataframe\n"
   ]
  },
  {
   "cell_type": "code",
   "execution_count": 17,
   "metadata": {},
   "outputs": [
    {
     "name": "stdout",
     "output_type": "stream",
     "text": [
      "<class 'pandas.core.frame.DataFrame'>\n",
      "RangeIndex: 409 entries, 0 to 408\n",
      "Data columns (total 9 columns):\n",
      " #   Column        Non-Null Count  Dtype  \n",
      "---  ------        --------------  -----  \n",
      " 0   mpg           400 non-null    float64\n",
      " 1   cylinders     409 non-null    float64\n",
      " 2   displacement  409 non-null    float64\n",
      " 3   horsepower    403 non-null    float64\n",
      " 4   weight        409 non-null    float64\n",
      " 5   acceleration  409 non-null    float64\n",
      " 6   model_year    409 non-null    float64\n",
      " 7   origin        409 non-null    float64\n",
      " 8   car_name      409 non-null    object \n",
      "dtypes: float64(8), object(1)\n",
      "memory usage: 28.9+ KB\n"
     ]
    }
   ],
   "source": [
    "auto_mpg_df.info()"
   ]
  },
  {
   "attachments": {},
   "cell_type": "markdown",
   "metadata": {},
   "source": [
    "\n",
    "<details>\n",
    "  <summary>💡 Solution</summary>\n",
    "\n",
    "  ```python\n",
    "  auto_mpg_df.info()\n",
    "```\n",
    "</details>"
   ]
  },
  {
   "attachments": {},
   "cell_type": "markdown",
   "metadata": {},
   "source": [
    "### 3.3: Display the statistics for the dataframe"
   ]
  },
  {
   "cell_type": "code",
   "execution_count": 19,
   "metadata": {},
   "outputs": [
    {
     "data": {
      "text/html": [
       "<div>\n",
       "<style scoped>\n",
       "    .dataframe tbody tr th:only-of-type {\n",
       "        vertical-align: middle;\n",
       "    }\n",
       "\n",
       "    .dataframe tbody tr th {\n",
       "        vertical-align: top;\n",
       "    }\n",
       "\n",
       "    .dataframe thead th {\n",
       "        text-align: right;\n",
       "    }\n",
       "</style>\n",
       "<table border=\"1\" class=\"dataframe\">\n",
       "  <thead>\n",
       "    <tr style=\"text-align: right;\">\n",
       "      <th></th>\n",
       "      <th>mpg</th>\n",
       "      <th>cylinders</th>\n",
       "      <th>displacement</th>\n",
       "      <th>horsepower</th>\n",
       "      <th>weight</th>\n",
       "      <th>acceleration</th>\n",
       "      <th>model_year</th>\n",
       "      <th>origin</th>\n",
       "    </tr>\n",
       "  </thead>\n",
       "  <tbody>\n",
       "    <tr>\n",
       "      <th>count</th>\n",
       "      <td>400.000000</td>\n",
       "      <td>409.000000</td>\n",
       "      <td>409.000000</td>\n",
       "      <td>403.000000</td>\n",
       "      <td>409.000000</td>\n",
       "      <td>409.000000</td>\n",
       "      <td>409.000000</td>\n",
       "      <td>409.000000</td>\n",
       "    </tr>\n",
       "    <tr>\n",
       "      <th>mean</th>\n",
       "      <td>23.482000</td>\n",
       "      <td>5.488998</td>\n",
       "      <td>195.881418</td>\n",
       "      <td>105.429280</td>\n",
       "      <td>2986.088020</td>\n",
       "      <td>15.496577</td>\n",
       "      <td>75.897311</td>\n",
       "      <td>1.564792</td>\n",
       "    </tr>\n",
       "    <tr>\n",
       "      <th>std</th>\n",
       "      <td>7.810255</td>\n",
       "      <td>1.715129</td>\n",
       "      <td>107.188359</td>\n",
       "      <td>38.959819</td>\n",
       "      <td>848.259456</td>\n",
       "      <td>2.812496</td>\n",
       "      <td>3.754633</td>\n",
       "      <td>0.796027</td>\n",
       "    </tr>\n",
       "    <tr>\n",
       "      <th>min</th>\n",
       "      <td>9.000000</td>\n",
       "      <td>3.000000</td>\n",
       "      <td>4.000000</td>\n",
       "      <td>46.000000</td>\n",
       "      <td>1613.000000</td>\n",
       "      <td>8.000000</td>\n",
       "      <td>70.000000</td>\n",
       "      <td>1.000000</td>\n",
       "    </tr>\n",
       "    <tr>\n",
       "      <th>25%</th>\n",
       "      <td>17.375000</td>\n",
       "      <td>4.000000</td>\n",
       "      <td>105.000000</td>\n",
       "      <td>76.000000</td>\n",
       "      <td>2228.000000</td>\n",
       "      <td>13.600000</td>\n",
       "      <td>73.000000</td>\n",
       "      <td>1.000000</td>\n",
       "    </tr>\n",
       "    <tr>\n",
       "      <th>50%</th>\n",
       "      <td>23.000000</td>\n",
       "      <td>4.000000</td>\n",
       "      <td>151.000000</td>\n",
       "      <td>95.000000</td>\n",
       "      <td>2833.000000</td>\n",
       "      <td>15.500000</td>\n",
       "      <td>76.000000</td>\n",
       "      <td>1.000000</td>\n",
       "    </tr>\n",
       "    <tr>\n",
       "      <th>75%</th>\n",
       "      <td>29.000000</td>\n",
       "      <td>8.000000</td>\n",
       "      <td>302.000000</td>\n",
       "      <td>130.000000</td>\n",
       "      <td>3630.000000</td>\n",
       "      <td>17.100000</td>\n",
       "      <td>79.000000</td>\n",
       "      <td>2.000000</td>\n",
       "    </tr>\n",
       "    <tr>\n",
       "      <th>max</th>\n",
       "      <td>46.600000</td>\n",
       "      <td>8.000000</td>\n",
       "      <td>552.000000</td>\n",
       "      <td>230.000000</td>\n",
       "      <td>5140.000000</td>\n",
       "      <td>24.800000</td>\n",
       "      <td>82.000000</td>\n",
       "      <td>3.000000</td>\n",
       "    </tr>\n",
       "  </tbody>\n",
       "</table>\n",
       "</div>"
      ],
      "text/plain": [
       "              mpg   cylinders  displacement  horsepower       weight  \\\n",
       "count  400.000000  409.000000    409.000000  403.000000   409.000000   \n",
       "mean    23.482000    5.488998    195.881418  105.429280  2986.088020   \n",
       "std      7.810255    1.715129    107.188359   38.959819   848.259456   \n",
       "min      9.000000    3.000000      4.000000   46.000000  1613.000000   \n",
       "25%     17.375000    4.000000    105.000000   76.000000  2228.000000   \n",
       "50%     23.000000    4.000000    151.000000   95.000000  2833.000000   \n",
       "75%     29.000000    8.000000    302.000000  130.000000  3630.000000   \n",
       "max     46.600000    8.000000    552.000000  230.000000  5140.000000   \n",
       "\n",
       "       acceleration  model_year      origin  \n",
       "count    409.000000  409.000000  409.000000  \n",
       "mean      15.496577   75.897311    1.564792  \n",
       "std        2.812496    3.754633    0.796027  \n",
       "min        8.000000   70.000000    1.000000  \n",
       "25%       13.600000   73.000000    1.000000  \n",
       "50%       15.500000   76.000000    1.000000  \n",
       "75%       17.100000   79.000000    2.000000  \n",
       "max       24.800000   82.000000    3.000000  "
      ]
     },
     "execution_count": 19,
     "metadata": {},
     "output_type": "execute_result"
    }
   ],
   "source": [
    "auto_mpg_df.describe()"
   ]
  },
  {
   "attachments": {},
   "cell_type": "markdown",
   "metadata": {},
   "source": [
    "<details>\n",
    "  <summary>💡 Solution </summary>\n",
    "  \n",
    "  ```python\n",
    "  auto_mpg_df.describe()\n",
    "  ```\n",
    "</details>"
   ]
  },
  {
   "attachments": {},
   "cell_type": "markdown",
   "metadata": {},
   "source": [
    "> 🚩 This is a good point to commit your code to your repository."
   ]
  },
  {
   "attachments": {},
   "cell_type": "markdown",
   "metadata": {},
   "source": [
    "### Exercise 4: Data Cleaning: Checking for Duplicate Records"
   ]
  },
  {
   "attachments": {},
   "cell_type": "markdown",
   "metadata": {},
   "source": [
    "#### 4.1: Count the number of exact duplicate records in the dataset\n",
    "\n",
    "<details>\n",
    "  <summary>🦉 Hints</summary>\n",
    "\n",
    "  - The `duplicated()` method can be used to check for duplicate records.\n",
    "  - This method returns a boolean series indicating whether a record is a duplicate or not.\n",
    "  - You'll need to chain some other method to provide a count of the duplicate records.\n",
    "\n",
    "</details>"
   ]
  },
  {
   "cell_type": "code",
   "execution_count": 23,
   "metadata": {},
   "outputs": [
    {
     "data": {
      "text/plain": [
       "np.int64(2)"
      ]
     },
     "execution_count": 23,
     "metadata": {},
     "output_type": "execute_result"
    }
   ],
   "source": [
    "auto_mpg_df.duplicated().sum()"
   ]
  },
  {
   "attachments": {},
   "cell_type": "markdown",
   "metadata": {},
   "source": [
    "\n",
    "<details>\n",
    "  <summary>💡 Solution</summary>\n",
    "\n",
    "  ```python\n",
    "  auto_mpg_df.duplicated().sum()\n",
    "```\n",
    "</details>"
   ]
  },
  {
   "attachments": {},
   "cell_type": "markdown",
   "metadata": {},
   "source": [
    "#### 4.2: Show the duplicate records\n",
    "using the results of the duplicated() method as a predicate to filter the dataframe, displaying the duplicate records. "
   ]
  },
  {
   "cell_type": "code",
   "execution_count": 25,
   "metadata": {},
   "outputs": [
    {
     "data": {
      "text/html": [
       "<div>\n",
       "<style scoped>\n",
       "    .dataframe tbody tr th:only-of-type {\n",
       "        vertical-align: middle;\n",
       "    }\n",
       "\n",
       "    .dataframe tbody tr th {\n",
       "        vertical-align: top;\n",
       "    }\n",
       "\n",
       "    .dataframe thead th {\n",
       "        text-align: right;\n",
       "    }\n",
       "</style>\n",
       "<table border=\"1\" class=\"dataframe\">\n",
       "  <thead>\n",
       "    <tr style=\"text-align: right;\">\n",
       "      <th></th>\n",
       "      <th>mpg</th>\n",
       "      <th>cylinders</th>\n",
       "      <th>displacement</th>\n",
       "      <th>horsepower</th>\n",
       "      <th>weight</th>\n",
       "      <th>acceleration</th>\n",
       "      <th>model_year</th>\n",
       "      <th>origin</th>\n",
       "      <th>car_name</th>\n",
       "    </tr>\n",
       "  </thead>\n",
       "  <tbody>\n",
       "    <tr>\n",
       "      <th>255</th>\n",
       "      <td>NaN</td>\n",
       "      <td>8.0</td>\n",
       "      <td>383.0</td>\n",
       "      <td>175.0</td>\n",
       "      <td>4166.0</td>\n",
       "      <td>10.5</td>\n",
       "      <td>70.0</td>\n",
       "      <td>1.0</td>\n",
       "      <td>plymouth satellite (sw)</td>\n",
       "    </tr>\n",
       "    <tr>\n",
       "      <th>393</th>\n",
       "      <td>16.0</td>\n",
       "      <td>8.0</td>\n",
       "      <td>400.0</td>\n",
       "      <td>180.0</td>\n",
       "      <td>4220.0</td>\n",
       "      <td>11.1</td>\n",
       "      <td>77.0</td>\n",
       "      <td>1.0</td>\n",
       "      <td>pontiac grand prix lj</td>\n",
       "    </tr>\n",
       "  </tbody>\n",
       "</table>\n",
       "</div>"
      ],
      "text/plain": [
       "      mpg  cylinders  displacement  horsepower  weight  acceleration  \\\n",
       "255   NaN        8.0         383.0       175.0  4166.0          10.5   \n",
       "393  16.0        8.0         400.0       180.0  4220.0          11.1   \n",
       "\n",
       "     model_year  origin                 car_name  \n",
       "255        70.0     1.0  plymouth satellite (sw)  \n",
       "393        77.0     1.0    pontiac grand prix lj  "
      ]
     },
     "execution_count": 25,
     "metadata": {},
     "output_type": "execute_result"
    }
   ],
   "source": [
    "auto_mpg_df[\n",
    "    auto_mpg_df.duplicated()]"
   ]
  },
  {
   "attachments": {},
   "cell_type": "markdown",
   "metadata": {},
   "source": [
    "\n",
    "<details>\n",
    "  <summary>💡 Solution</summary>\n",
    "\n",
    "  ```python\n",
    "  auto_mpg_df[\n",
    "    auto_mpg_df.duplicated()\n",
    "]\n",
    "```\n",
    "</details>"
   ]
  },
  {
   "attachments": {},
   "cell_type": "markdown",
   "metadata": {},
   "source": [
    "#### 4.3: Count the number of duplicate records in the dataset, based on a subset of columns\n",
    "To be fair, in this exact context, it doesn't really make sense to check for duplicate records based on a subset of columns (or maybe it does). However, we'll do that for the sake of practice.\n",
    "\n",
    "Let's check for duplicate records based on the `mpg`, `cylinders`, `acceleration`, and `origin` columns.\n",
    "\n",
    "<details>\n",
    "  <summary>🦉 Hints</summary>\n",
    "  \n",
    "  - You can specify a subset of columns to check for duplicates by passing a list of column names to the `subset` parameter.\n",
    "</details>"
   ]
  },
  {
   "cell_type": "code",
   "execution_count": 28,
   "metadata": {},
   "outputs": [
    {
     "data": {
      "text/plain": [
       "np.int64(43)"
      ]
     },
     "execution_count": 28,
     "metadata": {},
     "output_type": "execute_result"
    }
   ],
   "source": [
    "auto_mpg_df.duplicated(\n",
    "    subset=['cylinders', 'acceleration', 'origin', 'mpg']).sum()\n"
   ]
  },
  {
   "attachments": {},
   "cell_type": "markdown",
   "metadata": {},
   "source": [
    "\n",
    "<details>\n",
    "  <summary>💡 Solution</summary>\n",
    "\n",
    "  ```python\n",
    "  auto_mpg_df.duplicated(\n",
    "    subset=['mpg', 'cylinders', 'acceleration', 'origin']\n",
    ").sum()\n",
    "```\n",
    "</details>"
   ]
  },
  {
   "attachments": {},
   "cell_type": "markdown",
   "metadata": {},
   "source": [
    "### Exercise 5: Data Cleaning: Dropping Duplicate Records\n",
    "#### 5.1: Drop the duplicate records\n",
    "Now that we've confirmed that there are duplicate records in the dataset, let's remove them. using the `drop_duplicates()` method.\n",
    "\n",
    "\n",
    "<details>\n",
    "  <summary>🦉 Hints</summary>\n",
    "\n",
    "  - The `drop_duplicates()` method can be used to remove duplicate records.\n",
    "  - Make sure you either save the results of the method to a new variable, or use the `inplace` parameter to update the dataframe in place.\n",
    "</details>"
   ]
  },
  {
   "cell_type": "code",
   "execution_count": 30,
   "metadata": {},
   "outputs": [],
   "source": [
    "auto_mpg_df.drop_duplicates(inplace=True)"
   ]
  },
  {
   "attachments": {},
   "cell_type": "markdown",
   "metadata": {},
   "source": [
    "\n",
    "<details>\n",
    "  <summary>💡 Solution</summary>\n",
    "\n",
    "  ```python\n",
    "  auto_mpg_df.drop_duplicates(inplace=True)\n",
    "```\n",
    "</details>"
   ]
  },
  {
   "attachments": {},
   "cell_type": "markdown",
   "metadata": {},
   "source": [
    "#### 5.2: Confirm that the duplicate records were removed\n",
    "Check the number of records in the dataframe to confirm that the duplicates were removed."
   ]
  },
  {
   "cell_type": "code",
   "execution_count": 31,
   "metadata": {},
   "outputs": [
    {
     "data": {
      "text/plain": [
       "(407, 9)"
      ]
     },
     "execution_count": 31,
     "metadata": {},
     "output_type": "execute_result"
    }
   ],
   "source": [
    "auto_mpg_df.shape"
   ]
  },
  {
   "attachments": {},
   "cell_type": "markdown",
   "metadata": {},
   "source": [
    "<details>\n",
    "  <summary>💡 Solution</summary>\n",
    "\n",
    "  ```python\n",
    "    auto_mpg_df.shape\n",
    "  ```\n",
    "</details>"
   ]
  },
  {
   "attachments": {},
   "cell_type": "markdown",
   "metadata": {},
   "source": [
    "### Exercise 6: Data Cleaning: Checking for Missing Values\n",
    "#### 6.1: Use `info()` to check for missing values"
   ]
  },
  {
   "cell_type": "code",
   "execution_count": null,
   "metadata": {},
   "outputs": [
    {
     "name": "stdout",
     "output_type": "stream",
     "text": [
      "<class 'pandas.core.frame.DataFrame'>\n",
      "Index: 407 entries, 0 to 408\n",
      "Data columns (total 9 columns):\n",
      " #   Column        Non-Null Count  Dtype  \n",
      "---  ------        --------------  -----  \n",
      " 0   mpg           399 non-null    float64\n",
      " 1   cylinders     407 non-null    float64\n",
      " 2   displacement  407 non-null    float64\n",
      " 3   horsepower    401 non-null    float64\n",
      " 4   weight        407 non-null    float64\n",
      " 5   acceleration  407 non-null    float64\n",
      " 6   model_year    407 non-null    float64\n",
      " 7   origin        407 non-null    float64\n",
      " 8   car_name      407 non-null    object \n",
      "dtypes: float64(8), object(1)\n",
      "memory usage: 31.8+ KB\n"
     ]
    }
   ],
   "source": [
    "auto_mpg_df.info()"
   ]
  },
  {
   "cell_type": "raw",
   "metadata": {
    "vscode": {
     "languageId": "raw"
    }
   },
   "source": [
    "How many and what are the missing records? ANSWER HERE\n",
    "There are 6 missing records in the horsepower column, because it is below 407 at 401 records found. There are also 8 missing records in the mpg column, because only 399 were found"
   ]
  },
  {
   "attachments": {},
   "cell_type": "markdown",
   "metadata": {},
   "source": [
    "#### 6.2: Use `isna()` to check for missing values\n",
    "\n",
    "<details>\n",
    "  <summary>🦉 Hints</summary>\n",
    "\n",
    "  - The `isna()` method can be used to check for missing values.\n",
    "  - This method returns a boolean dataframe indicating whether a cell in the dataframe is missing or not.\n",
    "  - You'll need to chain some other method to provide a count of the missing records.\n",
    "\n",
    "</details>"
   ]
  },
  {
   "cell_type": "code",
   "execution_count": 38,
   "metadata": {},
   "outputs": [
    {
     "data": {
      "text/plain": [
       "mpg             8\n",
       "cylinders       0\n",
       "displacement    0\n",
       "horsepower      6\n",
       "weight          0\n",
       "acceleration    0\n",
       "model_year      0\n",
       "origin          0\n",
       "car_name        0\n",
       "dtype: int64"
      ]
     },
     "execution_count": 38,
     "metadata": {},
     "output_type": "execute_result"
    }
   ],
   "source": [
    "auto_mpg_df.isna().sum()"
   ]
  },
  {
   "attachments": {},
   "cell_type": "markdown",
   "metadata": {},
   "source": [
    "<details>\n",
    "  <summary>💡 Solution</summary>\n",
    "\n",
    "  ```python\n",
    "    auto_mpg_df.isna().sum()\n",
    "  ```\n",
    "</details>"
   ]
  },
  {
   "attachments": {},
   "cell_type": "markdown",
   "metadata": {},
   "source": [
    "#### 6.3: Use `isnull()` to check for missing values\n",
    "<details>\n",
    "  <summary>🦉 Hints</summary>\n",
    "\n",
    "  - The `isnull()` method can be used to check for missing values.\n",
    "  - This method returns a boolean dataframe indicating whether a cell in the dataframe is missing or not.\n",
    "  - You'll need to chain some other method to provide a count of the missing records.\n",
    "\n",
    "</details>"
   ]
  },
  {
   "cell_type": "code",
   "execution_count": 42,
   "metadata": {},
   "outputs": [
    {
     "data": {
      "text/plain": [
       "mpg             8\n",
       "cylinders       0\n",
       "displacement    0\n",
       "horsepower      6\n",
       "weight          0\n",
       "acceleration    0\n",
       "model_year      0\n",
       "origin          0\n",
       "car_name        0\n",
       "dtype: int64"
      ]
     },
     "execution_count": 42,
     "metadata": {},
     "output_type": "execute_result"
    }
   ],
   "source": [
    "auto_mpg_df.isnull().sum()"
   ]
  },
  {
   "attachments": {},
   "cell_type": "markdown",
   "metadata": {},
   "source": [
    "<details>\n",
    "  <summary>💡 Solution</summary>\n",
    "\n",
    "  ```python\n",
    "    auto_mpg_df.isnull().sum()\n",
    "  ```\n",
    "</details>"
   ]
  },
  {
   "attachments": {},
   "cell_type": "markdown",
   "metadata": {},
   "source": [
    "#### What's the difference between `isna()` and `isnull()`? what's your source?"
   ]
  },
  {
   "cell_type": "raw",
   "metadata": {
    "vscode": {
     "languageId": "raw"
    }
   },
   "source": [
    "isna() and isnull() are the same as they both determine whether a value is missing or not. \n",
    "Source: https://www.kaggle.com/discussions/general/341193 \n"
   ]
  },
  {
   "attachments": {},
   "cell_type": "markdown",
   "metadata": {},
   "source": [
    "### Exercise 7: Data Cleaning: Dropping Missing Values\n",
    "\n",
    "#### 7.1: Drop the missing values of the `mpg` column\n",
    "Now that we've confirmed that there are missing values in the dataset, let's remove them. using the `dropna()` method.\n",
    "\n",
    "Depending on the context, and on the project you're working on, you may want to drop the missing values, or you may want to replace them with a some value. \n",
    "\n",
    "In working with the `auto_mpg` dataset, we'll develop a model to predict the `mpg` of a car based on the other features. So, we'll drop the missing values from the `mpg` column.\n",
    "\n",
    "<details>\n",
    "  <summary>🦉 Hints</summary>\n",
    "\n",
    "  - Use the subset parameter to specify the column(s) to check for missing values.\n",
    "  - Either save the results of the method to a new variable, or use the `inplace` parameter to update the dataframe in place.\n",
    "\n",
    "</details>"
   ]
  },
  {
   "cell_type": "code",
   "execution_count": 5,
   "metadata": {},
   "outputs": [],
   "source": [
    "auto_mpg_df.dropna(\n",
    "    subset=['mpg'],\n",
    "    inplace=True\n",
    ")"
   ]
  },
  {
   "attachments": {},
   "cell_type": "markdown",
   "metadata": {},
   "source": [
    "<details>\n",
    "  <summary>💡 Solution</summary>\n",
    "\n",
    "  ```python\n",
    "    auto_mpg_df.dropna(\n",
    "      subset=['mpg'],\n",
    "      inplace=True\n",
    "    )\n",
    "  ```\n",
    "</details>"
   ]
  },
  {
   "attachments": {},
   "cell_type": "markdown",
   "metadata": {},
   "source": [
    "#### 7.2: Confirm that the missing values in `mpg` were removed"
   ]
  },
  {
   "cell_type": "code",
   "execution_count": 6,
   "metadata": {},
   "outputs": [
    {
     "data": {
      "text/plain": [
       "mpg             0\n",
       "cylinders       0\n",
       "displacement    0\n",
       "horsepower      6\n",
       "weight          0\n",
       "acceleration    0\n",
       "model_year      0\n",
       "origin          0\n",
       "car_name        0\n",
       "dtype: int64"
      ]
     },
     "execution_count": 6,
     "metadata": {},
     "output_type": "execute_result"
    }
   ],
   "source": [
    "auto_mpg_df.isna().sum()"
   ]
  },
  {
   "attachments": {},
   "cell_type": "markdown",
   "metadata": {},
   "source": [
    "<details>\n",
    "  <summary>💡 Solution</summary>\n",
    "\n",
    "  ```python\n",
    "    auto_mpg_df.isna().sum()\n",
    "  ```\n",
    "</details>"
   ]
  },
  {
   "attachments": {},
   "cell_type": "markdown",
   "metadata": {},
   "source": [
    "### Exercise 8: Data Cleaning: Replacing Missing Values\n",
    "Before we can determine what's the best value to replace the missing values with for the `horsepower` column, we need to understand the distribution of the values in that column."
   ]
  },
  {
   "attachments": {},
   "cell_type": "markdown",
   "metadata": {},
   "source": [
    "#### 8.1: Display the distribution of the values in the `horsepower` column\n",
    "Plot a 40-bins histogram of the values in the `horsepower` column.\n",
    "\n",
    "\n",
    "<details>\n",
    "  <summary>🦉 Hints</summary>\n",
    "\n",
    "  - The `plot.hist()` method can be used to plot a histogram.\n",
    "  - You can also use the `plot()` method with the `kind` parameter set to `hist` directly on the dataframe.\n",
    "  - The `%matplotlib inline` magic command is required to display the plot in the notebook. (Already done for you on the top cell of the notebook)\n",
    "\n",
    "</details>\n"
   ]
  },
  {
   "cell_type": "code",
   "execution_count": 7,
   "metadata": {},
   "outputs": [
    {
     "data": {
      "image/png": "[encoded data removed]",
      "text/plain": [
       "<Figure size 640x480 with 1 Axes>"
      ]
     },
     "metadata": {},
     "output_type": "display_data"
    }
   ],
   "source": [
    "auto_mpg_df['horsepower'].plot.hist(bins=40)\n",
    "plt.show()"
   ]
  },
  {
   "attachments": {},
   "cell_type": "markdown",
   "metadata": {},
   "source": [
    "<details>\n",
    "  <summary>💡 Solution</summary>\n",
    "\n",
    "  ```python\n",
    "    auto_mpg_df['horsepower'].plot.hist(bins=40)\n",
    "    plt.show()\n",
    "  ```\n",
    "  OR\n",
    "  ```python\n",
    "    auto_mpg_df['horsepower'].plot(kind=\"hist\", bins= 40)\n",
    "    plt.show()\n",
    "  ```\n",
    "  OR\n",
    "  ```python\n",
    "    auto_mpg_df.plot(y='horsepower', kind=\"hist\", bins= 40)\n",
    "    plt.show()\n",
    "  ```\n",
    "  OR\n",
    "  ```python\n",
    "    auto_mpg_df.plot.hist(y='horsepower', bins= 40)\n",
    "    plt.show()\n",
    "  ```\n",
    "  OR \n",
    "  ```python\n",
    "    plt.hist(auto_mpg_df['horsepower'], bins=40)\n",
    "    plt.show()\n",
    "  ```\n",
    "</details>"
   ]
  },
  {
   "attachments": {},
   "cell_type": "markdown",
   "metadata": {},
   "source": [
    "#### 8.2: Calculate the mean, median, and trimmed mean for the `horsepower` column\n",
    "\n",
    "<details>\n",
    "  <summary>🦉 Hints</summary>\n",
    "\n",
    "  - The `mean()` method can be used to calculate the mean of a column.\n",
    "  - The `median()` method can be used to calculate the median of a column.\n",
    "  - You'll need to use the scipy library to calculate the trimmed mean.\n",
    "</details>"
   ]
  },
  {
   "cell_type": "code",
   "execution_count": 17,
   "metadata": {},
   "outputs": [
    {
     "name": "stdout",
     "output_type": "stream",
     "text": [
      "horsepower mean = 104.6497461928934\n",
      "horsepower trimmed mean = 101.1125\n",
      "horsepower median = 94.5\n"
     ]
    }
   ],
   "source": [
    "from scipy.stats import trim_mean\n",
    "horsepower_mean = auto_mpg_df['horsepower'].mean()\n",
    "horsepower_trimmed_mean = trim_mean(auto_mpg_df['horsepower'], 0.1)\n",
    "horsepower_median = auto_mpg_df['horsepower'].median()\n",
    "print('horsepower mean =', horsepower_mean)\n",
    "print('horsepower trimmed mean =', horsepower_trimmed_mean) \n",
    "print('horsepower median =', horsepower_median)"
   ]
  },
  {
   "attachments": {},
   "cell_type": "markdown",
   "metadata": {},
   "source": [
    "<details>\n",
    "  <summary>💡 Solution</summary>\n",
    "\n",
    "  ```python\n",
    "    from scipy.stats import trim_mean\n",
    "    ...\n",
    "    horsepower_mean = auto_mpg_df['horsepower'].mean()\n",
    "    horsepower_median = auto_mpg_df['horsepower'].median()\n",
    "    horsepower_trimmed_mean = trim_mean(auto_mpg_df['horsepower'], 0.1)\n",
    "  ```\n",
    "</details>"
   ]
  },
  {
   "attachments": {},
   "cell_type": "markdown",
   "metadata": {},
   "source": [
    "#### 8.3: Display the central tendency measures on the distribution plot"
   ]
  },
  {
   "cell_type": "code",
   "execution_count": 18,
   "metadata": {},
   "outputs": [
    {
     "data": {
      "image/png": "[encoded data removed]",
      "text/plain": [
       "<Figure size 800x400 with 1 Axes>"
      ]
     },
     "metadata": {},
     "output_type": "display_data"
    }
   ],
   "source": [
    "fig, ax = plt.subplots(figsize = (8,4))\n",
    "\n",
    "auto_mpg_df['horsepower'].plot(kind=\"hist\", density= True, bins=40, alpha = 0.65)\n",
    "auto_mpg_df['horsepower'].plot(kind=\"kde\")\n",
    "\n",
    "ax.axvline(horsepower_mean, alpha = 0.8, linestyle = \":\")\n",
    "ax.axvline(horsepower_median, alpha = 0.8, linestyle = \":\")\n",
    "ax.axvline(horsepower_trimmed_mean, alpha = 0.8, linestyle = \":\")\n",
    "\n",
    "# ax.set_yticklabels([])\n",
    "ax.set_ylabel(\"\")\n",
    "\n",
    "ax.text(horsepower_mean-.1, .01, \"Mean\", size = 10, alpha = 0.8)\n",
    "ax.text(horsepower_median-.4, .0075, \"Median\", size = 10, alpha = 0.8)\n",
    "ax.text(horsepower_trimmed_mean+.4, .0050, \"Trimmed Mean\", size = 10, alpha = 0.8)\n",
    "\n",
    "ax.tick_params(left = False, bottom = False)\n",
    "for ax, spine in ax.spines.items():\n",
    "    spine.set_visible(False)\n",
    "\n",
    "plt.show()"
   ]
  },
  {
   "attachments": {},
   "cell_type": "markdown",
   "metadata": {},
   "source": [
    "#### 8.4: Replace the missing values in the `horsepower` column with the median value"
   ]
  },
  {
   "cell_type": "code",
   "execution_count": 20,
   "metadata": {},
   "outputs": [],
   "source": [
    "auto_mpg_df['horsepower'].fillna(horsepower_median, inplace=True)"
   ]
  },
  {
   "attachments": {},
   "cell_type": "markdown",
   "metadata": {},
   "source": [
    "<details>\n",
    "  <summary>💡 Solution</summary>\n",
    "\n",
    "  ```python\n",
    "    auto_mpg_df['horsepower'].fillna(horsepower_median, inplace=True)\n",
    "  ```\n",
    "</details>"
   ]
  },
  {
   "attachments": {},
   "cell_type": "markdown",
   "metadata": {},
   "source": [
    "#### 8.5: Confirm that the missing values in `horsepower` were replaced"
   ]
  },
  {
   "cell_type": "code",
   "execution_count": 21,
   "metadata": {},
   "outputs": [
    {
     "data": {
      "text/plain": [
       "mpg             0\n",
       "cylinders       0\n",
       "displacement    0\n",
       "horsepower      0\n",
       "weight          0\n",
       "acceleration    0\n",
       "model_year      0\n",
       "origin          0\n",
       "car_name        0\n",
       "dtype: int64"
      ]
     },
     "execution_count": 21,
     "metadata": {},
     "output_type": "execute_result"
    }
   ],
   "source": [
    "auto_mpg_df.isna().sum()"
   ]
  },
  {
   "attachments": {},
   "cell_type": "markdown",
   "metadata": {},
   "source": [
    "<details>\n",
    "  <summary>💡 Solution</summary>\n",
    "\n",
    "  ```python\n",
    "    auto_mpg_df.isna().sum()\n",
    "  ```\n",
    "</details>"
   ]
  },
  {
   "attachments": {},
   "cell_type": "markdown",
   "metadata": {},
   "source": [
    "### Exercise 9: Data Cleaning: Anomalies and outliers\n",
    "There are many statistical methods to detect outliers in a dataset.\n",
    "1. Interquartile range (IQR) method:\n",
    "  * Covered in the lecture videos\n",
    "  * This method calculates the IQR of the dataset, which is the range between the 25th and 75th percentiles of the data. Data points that are more than a certain multiple of the IQR (e.g., 1.5) away from the 25th or 75th percentile are considered anomalies.\n",
    "2. Z-score method: \n",
    "  * This method calculates the z-score of each data point, which measures how many standard deviations a data point is away from the mean of the dataset. \n",
    "  * Data points that have a z-score greater than a certain threshold (e.g., 3 or 4) are considered anomalies.\n",
    "3. Percentile method: \n",
    "  * This method identifies data points that are in the upper or lower percentiles of the dataset.\n",
    "    * For example, data points that are in the top or bottom 1% of the dataset may be considered anomalies.\n",
    "\n",
    "We will be exploring all 3 methods in this exercise."
   ]
  },
  {
   "attachments": {},
   "cell_type": "markdown",
   "metadata": {},
   "source": [
    "#### 9.1: Display the distribution of the values in the `displacement` column using a box plot"
   ]
  },
  {
   "cell_type": "code",
   "execution_count": null,
   "metadata": {},
   "outputs": [],
   "source": []
  },
  {
   "attachments": {},
   "cell_type": "markdown",
   "metadata": {},
   "source": [
    "<details>\n",
    "  <summary>💡 Solution</summary>\n",
    "\n",
    "  ```python\n",
    "    auto_mpg_df['displacement'].plot(kind=\"box\")\n",
    "    plt.show()\n",
    "  ```\n",
    "</details>"
   ]
  },
  {
   "attachments": {},
   "cell_type": "markdown",
   "metadata": {},
   "source": [
    "#### 9.2: Calculate the IQR for the `displacement` column\n",
    "* Calculate the range between the 25th and 75th percentiles of the data. (IQR)\n",
    "* Calculate the lower and upper bound of the data. using a 1.5 multiple or the IQR. \n",
    "  * Lower bound = 25th percentile - 1.5 * IQR\n",
    "  * Upper bound = 75th percentile + 1.5 * IQR"
   ]
  },
  {
   "cell_type": "code",
   "execution_count": null,
   "metadata": {},
   "outputs": [],
   "source": []
  },
  {
   "attachments": {},
   "cell_type": "markdown",
   "metadata": {},
   "source": [
    "<details>\n",
    "  <summary>💡 Solution</summary>\n",
    "\n",
    "  ```python\n",
    "    q1 = auto_mpg_df['displacement'].quantile(0.25)\n",
    "    q3 = auto_mpg_df['displacement'].quantile(0.75)\n",
    "    iqr = q3 - q1\n",
    "\n",
    "    print(f\"Q1: {q1}, Q3: {q3}, IQR: {iqr}\")\n",
    "\n",
    "    lower_limit = q1 - 1.5 * iqr\n",
    "    upper_limit = q3 + 1.5 * iqr\n",
    "\n",
    "    print(f\"Lower Limit: {lower_limit}, Upper Limit: {upper_limit}\")\n",
    "  ```\n",
    "</details>"
   ]
  },
  {
   "attachments": {},
   "cell_type": "markdown",
   "metadata": {},
   "source": [
    "#### 9.3: Using Pandas filtering, show records that are outliers in the `displacement` column\n",
    "\n",
    "<details>\n",
    "  <summary>🦉 Hints</summary>\n",
    "\n",
    "  - You'll need to provide a predicate for pandas to filter the dataframe.\n",
    "  - You can use the `|` operator to combine multiple conditions in a Pandas filter.\n",
    "</details>"
   ]
  },
  {
   "cell_type": "code",
   "execution_count": null,
   "metadata": {},
   "outputs": [],
   "source": []
  },
  {
   "attachments": {},
   "cell_type": "markdown",
   "metadata": {},
   "source": [
    "<details>\n",
    "  <summary>💡 Solution</summary>\n",
    "\n",
    "  ```python\n",
    "    auto_mpg_df[\n",
    "      (auto_mpg_df['displacement'] < lower_limit) | (auto_mpg_df['displacement'] > upper_limit)\n",
    "    ]\n",
    "  ```\n",
    "</details>"
   ]
  },
  {
   "attachments": {},
   "cell_type": "markdown",
   "metadata": {},
   "source": [
    "#### 9.4: Calculate the z-score for the `displacement` column\n",
    "* Calculate the mean and standard deviation of the `displacement` column.\n",
    "* Calculate the z-score for each data point in the `displacement` column.\n",
    "  * z-score = (x - mean) / standard deviation"
   ]
  },
  {
   "cell_type": "code",
   "execution_count": null,
   "metadata": {},
   "outputs": [],
   "source": [
    "displacement_mean = \n",
    "displacement_std = \n",
    "\n",
    "print(f\"Mean: {displacement_mean}, Std: {displacement_std}\")"
   ]
  },
  {
   "cell_type": "code",
   "execution_count": null,
   "metadata": {},
   "outputs": [],
   "source": [
    "z_scores = "
   ]
  },
  {
   "attachments": {},
   "cell_type": "markdown",
   "metadata": {},
   "source": [
    "<details>\n",
    "  <summary>💡 Solution</summary>\n",
    "\n",
    "  ```python\n",
    "    displacement_mean = auto_mpg_df['displacement'].mean()\n",
    "    displacement_std = auto_mpg_df['displacement'].std()\n",
    "\n",
    "    z_scores = (auto_mpg_df['horsepower'] - displacement_mean) / displacement_std\n",
    "  ```\n",
    "</details>"
   ]
  },
  {
   "attachments": {},
   "cell_type": "markdown",
   "metadata": {},
   "source": [
    "#### 9.5: Using Pandas filtering, show records that are outliers in the `displacement` column using the z-score method"
   ]
  },
  {
   "cell_type": "code",
   "execution_count": null,
   "metadata": {},
   "outputs": [],
   "source": []
  },
  {
   "attachments": {},
   "cell_type": "markdown",
   "metadata": {},
   "source": [
    "<details>\n",
    "  <summary>💡 Solution</summary>\n",
    "\n",
    "  ```python\n",
    "    auto_mpg_df[\n",
    "      (z_scores < -3) | (z_scores > 3)\n",
    "    ]\n",
    "  ```\n",
    "</details>"
   ]
  },
  {
   "attachments": {},
   "cell_type": "markdown",
   "metadata": {},
   "source": [
    "#### 9.6: Using Pandas filtering, show records that are outliers in the `displacement` column using the percentile method\n",
    "we'll use a 1% threshold for this exercise."
   ]
  },
  {
   "cell_type": "code",
   "execution_count": null,
   "metadata": {},
   "outputs": [],
   "source": []
  },
  {
   "attachments": {},
   "cell_type": "markdown",
   "metadata": {},
   "source": [
    "<details>\n",
    "  <summary>💡 Solution</summary>\n",
    "\n",
    "  ```python\n",
    "    quantile_1 = auto_mpg_df['displacement'].quantile(0.01)\n",
    "    quantile_99 = auto_mpg_df['displacement'].quantile(0.99)\n",
    "    auto_mpg_df[\n",
    "      (auto_mpg_df['displacement'] < quantile_1) | (auto_mpg_df['displacement'] > quantile_99)\n",
    "    ]\n",
    "  ```\n",
    "</details>"
   ]
  },
  {
   "attachments": {},
   "cell_type": "markdown",
   "metadata": {},
   "source": [
    "#### 9.7: Display the distribution of the values in the `displacement` column using a histogram"
   ]
  },
  {
   "cell_type": "code",
   "execution_count": null,
   "metadata": {},
   "outputs": [],
   "source": []
  },
  {
   "attachments": {},
   "cell_type": "markdown",
   "metadata": {},
   "source": [
    "<details>\n",
    "  <summary>💡 Solution</summary>\n",
    "\n",
    "  ```python\n",
    "    auto_mpg_df.plot.hist(y='displacement', bins= 40)\n",
    "    plt.show()\n",
    "  ```\n",
    "</details>"
   ]
  },
  {
   "attachments": {},
   "cell_type": "markdown",
   "metadata": {},
   "source": [
    "#### 9.8: On the historgram, display the upper and lower bounds based on the IQR method"
   ]
  },
  {
   "cell_type": "code",
   "execution_count": null,
   "metadata": {},
   "outputs": [],
   "source": []
  },
  {
   "attachments": {},
   "cell_type": "markdown",
   "metadata": {},
   "source": [
    "<details>\n",
    "  <summary>💡 Solution</summary>\n",
    "\n",
    "  ```python\n",
    "    bounds = [upper_limit, lower_limit]\n",
    "\n",
    "    # Create a histogram of the 'displacement' column\n",
    "    plt.hist(auto_mpg_df['displacement'], bins=40)\n",
    "\n",
    "    # Add vertical lines at the percentile values\n",
    "    for bound in bounds:\n",
    "        plt.axvline(bound, color='r', linestyle='--')\n",
    "\n",
    "    plt.show()\n",
    "  ```\n",
    "</details>"
   ]
  },
  {
   "attachments": {},
   "cell_type": "markdown",
   "metadata": {},
   "source": [
    "#### 9.9: Drop the outlier records from the `displacement` column\n",
    "\n",
    "* Don't do this in place, create a new dataframe."
   ]
  },
  {
   "cell_type": "code",
   "execution_count": null,
   "metadata": {},
   "outputs": [],
   "source": []
  },
  {
   "attachments": {},
   "cell_type": "markdown",
   "metadata": {},
   "source": [
    "<details>\n",
    "  <summary>💡 Solution</summary>\n",
    "\n",
    "  ```python\n",
    "    without_outliers = auto_mpg_df[\n",
    "      (auto_mpg_df['displacement'] > lower_limit) & (auto_mpg_df['displacement'] < upper_limit)\n",
    "    ]\n",
    "  ```\n",
    "  OR\n",
    "  ```python\n",
    "    without_outliers = auto_mpg_df.drop(\n",
    "      auto_mpg_df[\n",
    "        (auto_mpg_df['displacement'] < lower_limit) | (auto_mpg_df['displacement'] > upper_limit)\n",
    "      ].index\n",
    "    )\n",
    "  ```\n",
    "</details>"
   ]
  },
  {
   "attachments": {},
   "cell_type": "markdown",
   "metadata": {},
   "source": [
    "#### 9.10: Show the shape of the original dataframe and the new dataframe to show that the outliers were dropped\n"
   ]
  },
  {
   "cell_type": "code",
   "execution_count": null,
   "metadata": {},
   "outputs": [],
   "source": [
    "display(auto_mpg_df.shape)\n",
    "display(without_outliers.shape)"
   ]
  },
  {
   "attachments": {},
   "cell_type": "markdown",
   "metadata": {},
   "source": [
    "### Exercise 10: Further Exploration\n",
    "\n",
    "<details>\n",
    "  <summary>📊 Data Types Diagram</summary>\n",
    "\n",
    " ![Data types](https://miro.medium.com/max/1400/1*kySPZcf83qLOuaqB1vJxlg.jpeg)\n",
    "</details>"
   ]
  },
  {
   "attachments": {},
   "cell_type": "markdown",
   "metadata": {},
   "source": [
    "#### 10.1: # For each of the 9 columns, Identify the data type: \n",
    "* Numerical-Continuous\n",
    "* Numerical-Discrete\n",
    "* Categorical-Ordinal\n",
    "* Categorical-nominal"
   ]
  },
  {
   "cell_type": "raw",
   "metadata": {},
   "source": [
    "1. mpg:           \n",
    "2. cylinders:     \n",
    "3. displacement:  \n",
    "4. horsepower:    \n",
    "5. weight:        \n",
    "6. acceleration:  \n",
    "7. model year:    \n",
    "8. origin:        \n",
    "9. car name:      "
   ]
  },
  {
   "attachments": {},
   "cell_type": "markdown",
   "metadata": {},
   "source": [
    "#### 10.2: Show all the possible values for the `origin` column\n",
    "\n",
    "<details>\n",
    "  <summary>🦉 Hints</summary>\n",
    "\n",
    "  - The `value_counts()` method can be used to show the unique values in a column.\n",
    "</details>"
   ]
  },
  {
   "cell_type": "code",
   "execution_count": null,
   "metadata": {},
   "outputs": [],
   "source": []
  },
  {
   "attachments": {},
   "cell_type": "markdown",
   "metadata": {},
   "source": [
    "<details>\n",
    "  <summary>💡 Solution</summary>\n",
    "\n",
    "  ```python\n",
    "    auto_mpg_df['origin'].value_counts()\n",
    "  ```\n",
    "</details>"
   ]
  },
  {
   "attachments": {},
   "cell_type": "markdown",
   "metadata": {},
   "source": [
    "**What do the values in the `origin` column represent?**"
   ]
  },
  {
   "cell_type": "raw",
   "metadata": {},
   "source": []
  },
  {
   "attachments": {},
   "cell_type": "markdown",
   "metadata": {},
   "source": [
    "#### **BONUS**: show a scatter plot of the `horsepower` column vs the `weight` column"
   ]
  },
  {
   "cell_type": "raw",
   "metadata": {},
   "source": []
  },
  {
   "attachments": {},
   "cell_type": "markdown",
   "metadata": {},
   "source": [
    "## Wrap up\n",
    "Remember to update the self reflection and self evaluations on the `README` file."
   ]
  },
  {
   "cell_type": "markdown",
   "metadata": {},
   "source": [
    "Make sure you run the following cell; this converts this Jupyter notebook to a Python script. and will make the process of reviewing your code on GitHub easier"
   ]
  },
  {
   "cell_type": "code",
   "execution_count": 2,
   "metadata": {},
   "outputs": [
    {
     "name": "stdout",
     "output_type": "stream",
     "text": [
      "[NbConvertApp] Converting notebook notebook.ipynb to python\n",
      "[NbConvertApp] Writing 20685 bytes to notebook.py\n"
     ]
    }
   ],
   "source": [
    "# 🦉: The following command converts this Jupyter notebook to a Python script.\n",
    "!jupyter nbconvert --to python notebook.ipynb"
   ]
  },
  {
   "cell_type": "markdown",
   "metadata": {},
   "source": [
    "> 🚩 **Make sure** you save the notebook and make one final commit here"
   ]
  }
 ],
 "metadata": {
  "kernelspec": {
   "display_name": "Python 3",
   "language": "python",
   "name": "python3"
  },
  "language_info": {
   "codemirror_mode": {
    "name": "ipython",
    "version": 3
   },
   "file_extension": ".py",
   "mimetype": "text/x-python",
   "name": "python",
   "nbconvert_exporter": "python",
   "pygments_lexer": "ipython3",
   "version": "3.12.8"
  },
  "orig_nbformat": 4
 },
 "nbformat": 4,
 "nbformat_minor": 2
}
